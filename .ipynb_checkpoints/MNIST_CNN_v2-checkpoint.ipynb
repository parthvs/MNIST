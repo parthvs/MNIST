{
  "cells": [
    {
      "cell_type": "code",
      "execution_count": 12,
      "metadata": {
        "id": "0dz6yfLbo3p7",
        "colab": {
          "base_uri": "https://localhost:8080/",
          "height": 1000
        },
        "outputId": "991a5934-a6ee-4552-ceee-48d197d295f4"
      },
      "outputs": [
        {
          "output_type": "stream",
          "name": "stdout",
          "text": [
            "EPOCH  0 :\n",
            "Cost:  0.9458960693331002\n",
            "Cost difference:  0.9458960693331002\n",
            "\n",
            "\n",
            "EPOCH  1 :\n",
            "Cost:  0.9224971939963441\n",
            "Cost difference:  -0.02339887533675611\n",
            "\n",
            "\n",
            "EPOCH  2 :\n",
            "Cost:  0.9040637046683185\n",
            "Cost difference:  -0.018433489328025576\n",
            "\n",
            "\n",
            "EPOCH  3 :\n",
            "Cost:  0.8668960008287167\n",
            "Cost difference:  -0.037167703839601884\n",
            "\n",
            "\n",
            "EPOCH  4 :\n",
            "Cost:  0.8054397071819791\n",
            "Cost difference:  -0.06145629364673755\n",
            "\n",
            "\n",
            "EPOCH  5 :\n",
            "Cost:  0.739753044949419\n",
            "Cost difference:  -0.06568666223256014\n",
            "\n",
            "\n",
            "EPOCH  6 :\n",
            "Cost:  0.6778534524904671\n",
            "Cost difference:  -0.061899592458951824\n",
            "\n",
            "\n",
            "EPOCH  7 :\n",
            "Cost:  0.623381246128423\n",
            "Cost difference:  -0.054472206362044084\n",
            "\n",
            "\n",
            "EPOCH  8 :\n",
            "Cost:  0.577439706847476\n",
            "Cost difference:  -0.04594153928094702\n",
            "\n",
            "\n",
            "EPOCH  9 :\n",
            "Cost:  0.5376860101459731\n",
            "Cost difference:  -0.03975369670150297\n",
            "\n",
            "\n",
            "EPOCH  10 :\n",
            "Cost:  0.5035932727946911\n",
            "Cost difference:  -0.03409273735128193\n",
            "\n",
            "\n",
            "EPOCH  11 :\n"
          ]
        },
        {
          "output_type": "error",
          "ename": "KeyboardInterrupt",
          "evalue": "",
          "traceback": [
            "\u001b[0;31m---------------------------------------------------------------------------\u001b[0m",
            "\u001b[0;31mKeyboardInterrupt\u001b[0m                         Traceback (most recent call last)",
            "\u001b[0;32m<ipython-input-12-4f6817359a79>\u001b[0m in \u001b[0;36m<cell line: 173>\u001b[0;34m()\u001b[0m\n\u001b[1;32m    171\u001b[0m     \u001b[0;32mreturn\u001b[0m \u001b[0mW1\u001b[0m\u001b[0;34m,\u001b[0m\u001b[0mB1\u001b[0m\u001b[0;34m,\u001b[0m\u001b[0mW2\u001b[0m\u001b[0;34m,\u001b[0m\u001b[0mB2\u001b[0m\u001b[0;34m\u001b[0m\u001b[0;34m\u001b[0m\u001b[0m\n\u001b[1;32m    172\u001b[0m \u001b[0;34m\u001b[0m\u001b[0m\n\u001b[0;32m--> 173\u001b[0;31m \u001b[0mW1\u001b[0m\u001b[0;34m,\u001b[0m\u001b[0mB1\u001b[0m\u001b[0;34m,\u001b[0m\u001b[0mW2\u001b[0m\u001b[0;34m,\u001b[0m\u001b[0mB2\u001b[0m \u001b[0;34m=\u001b[0m \u001b[0mmain\u001b[0m\u001b[0;34m(\u001b[0m\u001b[0;34m)\u001b[0m\u001b[0;34m\u001b[0m\u001b[0;34m\u001b[0m\u001b[0m\n\u001b[0m",
            "\u001b[0;32m<ipython-input-12-4f6817359a79>\u001b[0m in \u001b[0;36mmain\u001b[0;34m()\u001b[0m\n\u001b[1;32m    134\u001b[0m             \u001b[0mX1\u001b[0m\u001b[0;34m,\u001b[0m\u001b[0mA2\u001b[0m \u001b[0;34m=\u001b[0m \u001b[0mlayer_1_fp\u001b[0m\u001b[0;34m(\u001b[0m\u001b[0mpxl\u001b[0m\u001b[0;34m,\u001b[0m\u001b[0mW1\u001b[0m\u001b[0;34m,\u001b[0m\u001b[0mB1\u001b[0m\u001b[0;34m)\u001b[0m\u001b[0;34m\u001b[0m\u001b[0;34m\u001b[0m\u001b[0m\n\u001b[1;32m    135\u001b[0m             \u001b[0mX2\u001b[0m\u001b[0;34m,\u001b[0m\u001b[0mA3\u001b[0m \u001b[0;34m=\u001b[0m \u001b[0mlayer_2_fp\u001b[0m\u001b[0;34m(\u001b[0m\u001b[0mA2\u001b[0m\u001b[0;34m,\u001b[0m\u001b[0mW2\u001b[0m\u001b[0;34m,\u001b[0m\u001b[0mB2\u001b[0m\u001b[0;34m)\u001b[0m\u001b[0;34m\u001b[0m\u001b[0;34m\u001b[0m\u001b[0m\n\u001b[0;32m--> 136\u001b[0;31m             \u001b[0mcurrent_cost\u001b[0m \u001b[0;34m+=\u001b[0m \u001b[0mcost\u001b[0m\u001b[0;34m(\u001b[0m\u001b[0mA3\u001b[0m\u001b[0;34m,\u001b[0m\u001b[0mlabel\u001b[0m\u001b[0;34m)\u001b[0m\u001b[0;34m\u001b[0m\u001b[0;34m\u001b[0m\u001b[0m\n\u001b[0m\u001b[1;32m    137\u001b[0m \u001b[0;34m\u001b[0m\u001b[0m\n\u001b[1;32m    138\u001b[0m \u001b[0;34m\u001b[0m\u001b[0m\n",
            "\u001b[0;32m<ipython-input-12-4f6817359a79>\u001b[0m in \u001b[0;36mcost\u001b[0;34m(A3, label)\u001b[0m\n\u001b[1;32m     21\u001b[0m     \u001b[0;32mreturn\u001b[0m \u001b[0mX2\u001b[0m\u001b[0;34m,\u001b[0m\u001b[0mA3\u001b[0m\u001b[0;34m\u001b[0m\u001b[0;34m\u001b[0m\u001b[0m\n\u001b[1;32m     22\u001b[0m \u001b[0;34m\u001b[0m\u001b[0m\n\u001b[0;32m---> 23\u001b[0;31m \u001b[0;32mdef\u001b[0m \u001b[0mcost\u001b[0m\u001b[0;34m(\u001b[0m\u001b[0mA3\u001b[0m\u001b[0;34m,\u001b[0m\u001b[0mlabel\u001b[0m\u001b[0;34m)\u001b[0m\u001b[0;34m:\u001b[0m\u001b[0;34m\u001b[0m\u001b[0;34m\u001b[0m\u001b[0m\n\u001b[0m\u001b[1;32m     24\u001b[0m     \u001b[0my_h\u001b[0m \u001b[0;34m=\u001b[0m \u001b[0mnp\u001b[0m\u001b[0;34m.\u001b[0m\u001b[0mzeros\u001b[0m\u001b[0;34m(\u001b[0m\u001b[0;34m(\u001b[0m\u001b[0;36m10\u001b[0m\u001b[0;34m)\u001b[0m\u001b[0;34m)\u001b[0m\u001b[0;34m\u001b[0m\u001b[0;34m\u001b[0m\u001b[0m\n\u001b[1;32m     25\u001b[0m     \u001b[0my_h\u001b[0m\u001b[0;34m[\u001b[0m\u001b[0mlabel\u001b[0m\u001b[0;34m]\u001b[0m \u001b[0;34m=\u001b[0m \u001b[0;36m1\u001b[0m\u001b[0;34m\u001b[0m\u001b[0;34m\u001b[0m\u001b[0m\n",
            "\u001b[0;31mKeyboardInterrupt\u001b[0m: "
          ]
        }
      ],
      "source": [
        "import numpy as np\n",
        "import pandas as pd\n",
        "import matplotlib.pyplot as plt\n",
        "\n",
        "\n",
        "def relu(x):\n",
        "    return np.maximum(x, 0)\n",
        "\n",
        "def dxrelu(x):\n",
        "    return (x > 0).astype(float)\n",
        "\n",
        "def layer_1_fp(X,W1,B1):\n",
        "    X1 = np.dot(W1,X) + B1\n",
        "    A2 = relu(X1)\n",
        "    return X1,A2\n",
        "\n",
        "\n",
        "def layer_2_fp(A2,W2,B2):\n",
        "    X2 = np.dot(W2,A2) + B2\n",
        "    A3 = relu(X2)\n",
        "    return X2,A3\n",
        "\n",
        "def cost(A3,label):\n",
        "    y_h = np.zeros((10))\n",
        "    y_h[label] = 1\n",
        "    c = A3 - y_h\n",
        "    c = np.square(c)\n",
        "    cost = np.sum(c)\n",
        "    return cost\n",
        "\n",
        "\n",
        "def back_prop(W1,B1,W2,B2,A1,A2,A3,X1,X2,alpha,label):\n",
        "\n",
        "    y_h = np.zeros((10))\n",
        "    y_h[label ] = 1\n",
        "    error = A3 - y_h\n",
        "    dW2 = np.dot((2 * error * dxrelu(X2)).reshape(10,1),A2.reshape(10,1).transpose()) #10 x 10\n",
        "    dB2 = 2 * error * dxrelu(X2) # 10, 1\n",
        "\n",
        "\n",
        "    temp1  =  (np.dot(dB2 ,W2) * dxrelu(X1)).reshape(10,1)\n",
        "    temp2 =   A1.reshape((784,1)).transpose()\n",
        "    dW1 = np.dot(temp1,temp2) # 10 *784\n",
        "    dB1 = np.dot(dB2 ,W2) * dxrelu(X1)\n",
        "\n",
        "    W1 += -alpha * dW1\n",
        "    B1 += -alpha * dB1\n",
        "    W2 += -alpha * dW2\n",
        "    B2 += -alpha * dB2\n",
        "\n",
        "    return W1, B1, W2, B2\n",
        "\n",
        "\n",
        "def save_weights_and_biases(W1, B1, W2, B2, filename):\n",
        "    \"\"\"\n",
        "    Save weights and biases to a text file.\n",
        "\n",
        "    Parameters:\n",
        "    - W1 (numpy.ndarray): Weights of the first layer.\n",
        "    - B1 (numpy.ndarray): Biases of the first layer.\n",
        "    - W2 (numpy.ndarray): Weights of the second layer.\n",
        "    - B2 (numpy.ndarray): Biases of the second layer.\n",
        "    - filename (str): The file where the data will be saved.\n",
        "    \"\"\"\n",
        "    with open(filename, 'w') as file:\n",
        "        file.write('Weights and Biases:\\n\\n')\n",
        "\n",
        "        file.write('Weights W1:\\n')\n",
        "        np.savetxt(file, W1, fmt='%.6f', header='Shape: {}'.format(W1.shape))\n",
        "\n",
        "        file.write('\\nBiases B1:\\n')\n",
        "        np.savetxt(file, B1, fmt='%.6f', header='Shape: {}'.format(B1.shape))\n",
        "\n",
        "        file.write('\\nWeights W2:\\n')\n",
        "        np.savetxt(file, W2, fmt='%.6f', header='Shape: {}'.format(W2.shape))\n",
        "\n",
        "        file.write('\\nBiases B2:\\n')\n",
        "        np.savetxt(file, B2, fmt='%.6f', header='Shape: {}'.format(B2.shape))\n",
        "\n",
        "def predict(img, label,W1,B1,W2,B2):\n",
        "    _,A2 = layer_1_fp(img,W1,B1)\n",
        "    _,A3 = layer_2_fp(A2,W2,B2)\n",
        "    img = img.reshape((28,28))\n",
        "    plt.imshow(img)\n",
        "    plt.title(label)\n",
        "    plt.show()\n",
        "    print(A3)\n",
        "    return A3\n",
        "\n",
        "\n",
        "def accuracy(img,label,W1,B1,W2,B2):\n",
        "    _,A2 = layer_1_fp(img,W1,B1)\n",
        "    _,A3 = layer_2_fp(A2,W2,B2)\n",
        "    prediction = np.argmax(A3)\n",
        "\n",
        "    if prediction == label:\n",
        "        return 1\n",
        "    else:\n",
        "        return 0\n",
        "\n",
        "def main():\n",
        "    epochs = 250\n",
        "    alpha = 0.00002# ideal  = 0.00001\n",
        "    costls = []\n",
        "    W1 = np.random.uniform(-0.02, 0.02, (10, 784))\n",
        "    B1 = np.random.uniform(-0.02, 0.02, (10))\n",
        "\n",
        "    W2 = np.random.uniform(-0.02, 0.02, (10, 10))\n",
        "    B2 = np.random.uniform(-0.02, 0.02, (10))\n",
        "    prev_cost = 0\n",
        "    cost_rpt = 0\n",
        "    test = r\"/content/test.csv\"\n",
        "    train = r\"/content/train.csv\"\n",
        "    dataset = pd.read_csv(train)\n",
        "    test = pd.read_csv(test)\n",
        "    n = len(dataset)\n",
        "\n",
        "\n",
        "\n",
        "\n",
        "    for i in range(epochs):\n",
        "\n",
        "\n",
        "        print(\"EPOCH \",i,\":\")\n",
        "\n",
        "        current_cost = 0\n",
        "\n",
        "\n",
        "        for i in range(n):\n",
        "            label = dataset.iloc[i,0]\n",
        "            pxl = np.array(dataset.iloc[i,1:])/255\n",
        "\n",
        "\n",
        "            X1,A2 = layer_1_fp(pxl,W1,B1)\n",
        "            X2,A3 = layer_2_fp(A2,W2,B2)\n",
        "            current_cost += cost(A3,label)\n",
        "\n",
        "\n",
        "            W1, B1, W2, B2 = back_prop(W1,B1,W2,B2,pxl,A2,A3,X1,X2,alpha,label)\n",
        "\n",
        "        save_weights_and_biases(W1, B1, W2, B2, 'Weights.txt')\n",
        "        current_cost /= n\n",
        "        print(\"Cost: \",current_cost)\n",
        "\n",
        "        if current_cost == prev_cost:\n",
        "            cost_rpt += 1\n",
        "        else:\n",
        "            cost_rpt = 0\n",
        "        if cost_rpt == 5:\n",
        "            print(\"NO CHANGE IN COST\")\n",
        "            break\n",
        "        costls.append(current_cost)\n",
        "        print(\"Cost difference: \",current_cost - prev_cost)\n",
        "        print(\"\\n\")\n",
        "        prev_cost = current_cost\n",
        "\n",
        "        if i%10 == 0:\n",
        "            correct = 0\n",
        "            for k in range(50):\n",
        "                test_img = test.iloc[k,1:]\n",
        "                test_label = test.iloc[k,0]\n",
        "                if predict(test_img,test_label,W1,B1,W2,B2):\n",
        "                    correct += 1\n",
        "            print(\"Accuracy: \",correct*2 ,\"%\\n\")\n",
        "\n",
        "    import matplotlib.pyplot as plt\n",
        "\n",
        "    plt.plot(costls)\n",
        "    plt.show()\n",
        "\n",
        "    return W1,B1,W2,B2\n",
        "\n",
        "W1,B1,W2,B2 = main()"
      ]
    },
    {
      "cell_type": "code",
      "execution_count": 8,
      "metadata": {
        "colab": {
          "base_uri": "https://localhost:8080/"
        },
        "id": "HNBkwuWjth7P",
        "outputId": "88768024-e027-4ef8-c23f-e1ef83b81ab3"
      },
      "outputs": [
        {
          "output_type": "execute_result",
          "data": {
            "text/plain": [
              "array([[ 0.00956019, -0.01792742,  0.00111572, ...,  0.00025942,\n",
              "         0.01689646,  0.01953137],\n",
              "       [ 0.00736598, -0.00703359, -0.01925649, ...,  0.00017108,\n",
              "         0.00814331,  0.01139873],\n",
              "       [-0.01025029,  0.00366321,  0.00336097, ...,  0.00887606,\n",
              "         0.01958462, -0.00455009],\n",
              "       ...,\n",
              "       [ 0.01184126,  0.01267329, -0.01517569, ..., -0.0106803 ,\n",
              "         0.00739146,  0.00882076],\n",
              "       [-0.00294504, -0.0030355 , -0.0035458 , ...,  0.01060207,\n",
              "         0.01157473,  0.00018469],\n",
              "       [-0.01333354, -0.00611574, -0.01960579, ..., -0.01394278,\n",
              "        -0.00427346,  0.00778295]])"
            ]
          },
          "metadata": {},
          "execution_count": 8
        }
      ],
      "source": [
        "test = r\"/content/test.csv\"\n",
        "test = pd.read_csv(test)\n",
        "\n",
        "correct = 0\n",
        "for i in range(len(test)):\n",
        "    pxl = np.array(test.iloc[i,:])\n",
        "    label = test.iloc[i,0]\n",
        "    prediction = predict(pxl,W1,B1,W2,B2)\n",
        "    if label == np.argmax(prediction):\n",
        "        correct += 1\n",
        "print(\"Accuracy: \",correct/len(test))"
      ]
    },
    {
      "cell_type": "code",
      "execution_count": 16,
      "metadata": {
        "id": "slHjxQEYtl6n",
        "colab": {
          "base_uri": "https://localhost:8080/",
          "height": 487
        },
        "outputId": "50acecdb-160a-46a1-9208-22fd91762ce2"
      },
      "outputs": [
        {
          "output_type": "display_data",
          "data": {
            "text/plain": [
              "<Figure size 640x480 with 1 Axes>"
            ],
            "image/png": "[encoded data removed]"
          },
          "metadata": {}
        },
        {
          "output_type": "stream",
          "name": "stdout",
          "text": [
            "[0.         0.         0.00763451 0.         0.06570001 0.\n",
            " 0.69890979 0.         0.33378554 0.        ]\n"
          ]
        }
      ],
      "source": [
        "def predict(img, label,W1,B1,W2,B2):\n",
        "    _,A2 = layer_1_fp(img,W1,B1)\n",
        "    _,A3 = layer_2_fp(A2,W2,B2)\n",
        "    img = img.reshape((28,28))\n",
        "    plt.imshow(img)\n",
        "    plt.title(label)\n",
        "    plt.show()\n",
        "    print(A3)\n",
        "    return A3\n",
        "\n",
        "test = r\"/content/test.csv\"\n",
        "test = pd.read_csv(test)\n",
        "i = 5\n",
        "pxl = np.array(test.iloc[i,:])\n",
        "label = test.iloc[i,0]\n",
        "prediction = predict(pxl,label,W1,B1,W2,B2)\n",
        "\n"
      ]
    },
    {
      "cell_type": "code",
      "source": [
        "W2.shape"
      ],
      "metadata": {
        "colab": {
          "base_uri": "https://localhost:8080/"
        },
        "id": "aNp22J4Q8baa",
        "outputId": "28e01563-a238-4d64-96a5-048e38d57879"
      },
      "execution_count": 13,
      "outputs": [
        {
          "output_type": "execute_result",
          "data": {
            "text/plain": [
              "(10, 784)"
            ]
          },
          "metadata": {},
          "execution_count": 13
        }
      ]
    },
    {
      "cell_type": "code",
      "source": [],
      "metadata": {
        "id": "Qfj7aoD6_Mfd"
      },
      "execution_count": 3,
      "outputs": []
    },
    {
      "cell_type": "code",
      "source": [],
      "metadata": {
        "id": "yb74Z-HM_fmW"
      },
      "execution_count": null,
      "outputs": []
    }
  ],
  "metadata": {
    "accelerator": "TPU",
    "colab": {
      "gpuType": "V28",
      "provenance": []
    },
    "kernelspec": {
      "display_name": "Python 3",
      "name": "python3"
    },
    "language_info": {
      "name": "python"
    }
  },
  "nbformat": 4,
  "nbformat_minor": 0
}